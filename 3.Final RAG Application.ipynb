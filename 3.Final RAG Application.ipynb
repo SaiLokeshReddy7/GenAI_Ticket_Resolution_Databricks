{
 "cells": [
  {
   "cell_type": "markdown",
   "metadata": {
    "application/vnd.databricks.v1+cell": {
     "cellMetadata": {},
     "inputWidgets": {},
     "nuid": "b655b34a-849e-45d3-b650-b0c378ae570d",
     "showTitle": false,
     "title": ""
    }
   },
   "source": [
    "\n",
    "# Ticket-Resolving RAG Application\n",
    "\n",
    "In this notebook, we create a complete Ticket-Resolving Retrieval-Augmented Generation (RAG) application by assembling and evaluating the components developed so far.\n",
    "\n",
    "We begin by constructing a Vector Search Index and connecting all parts of the RAG pipeline, which enables efficient retrieval of relevant information for ticket resolution. Following this, we evaluate the RAG pipeline's performance, register the model, and deploy a Model Serving Endpoint to make the RAG system accessible.\n"
   ]
  },
  {
   "cell_type": "markdown",
   "metadata": {
    "application/vnd.databricks.v1+cell": {
     "cellMetadata": {},
     "inputWidgets": {},
     "nuid": "188089b3-8997-4a30-8cca-0c3d9ea72417",
     "showTitle": false,
     "title": ""
    }
   },
   "source": [
    "Install required libraries and helper funcations"
   ]
  },
  {
   "cell_type": "code",
   "execution_count": 0,
   "metadata": {
    "application/vnd.databricks.v1+cell": {
     "cellMetadata": {
      "byteLimit": 2048000,
      "rowLimit": 10000
     },
     "inputWidgets": {},
     "nuid": "4802762c-0665-4ee0-a086-e0433025447c",
     "showTitle": false,
     "title": ""
    }
   },
   "outputs": [
    {
     "output_type": "stream",
     "name": "stdout",
     "output_type": "stream",
     "text": [
      "\u001B[43mNote: you may need to restart the kernel using %restart_python or dbutils.library.restartPython() to use updated packages.\u001B[0m\n"
     ]
    }
   ],
   "source": [
    "%pip install -U --quiet mlflow==2.14.3 databricks-vectorsearch==0.40 transformers==4.44.0 langchain==0.2.11 langchain-community==0.2.10 pydantic==2.8.2 flashrank==0.2.8 accelerate PyPDF2\n",
    "dbutils.library.restartPython()"
   ]
  },
  {
   "cell_type": "code",
   "execution_count": 0,
   "metadata": {
    "application/vnd.databricks.v1+cell": {
     "cellMetadata": {
      "byteLimit": 2048000,
      "rowLimit": 10000
     },
     "inputWidgets": {},
     "nuid": "8af1222a-8c03-456c-ae83-ee384b5db3d9",
     "showTitle": false,
     "title": ""
    }
   },
   "outputs": [],
   "source": [
    "%run ../Includes/_helper_functions"
   ]
  },
  {
   "cell_type": "markdown",
   "metadata": {
    "application/vnd.databricks.v1+cell": {
     "cellMetadata": {},
     "inputWidgets": {},
     "nuid": "4bcc04bd-7e0a-4a79-a0b7-f066174f6d83",
     "showTitle": false,
     "title": ""
    }
   },
   "source": [
    "\n",
    "### Setup the Retriever\n",
    "\n",
    "We have set up the Vector Search endpoint created in previous notebook as the retriever. This retriever will return 2 relevant documents based on the query."
   ]
  },
  {
   "cell_type": "code",
   "execution_count": 0,
   "metadata": {
    "application/vnd.databricks.v1+cell": {
     "cellMetadata": {
      "byteLimit": 2048000,
      "rowLimit": 10000
     },
     "inputWidgets": {},
     "nuid": "bc4f062d-a399-4b13-82f7-3c54869b50f4",
     "showTitle": false,
     "title": ""
    }
   },
   "outputs": [
    {
     "output_type": "stream",
     "name": "stdout",
     "output_type": "stream",
     "text": [
      "Assigned Vector Search endpoint name: vs_endpoint_1.\n"
     ]
    }
   ],
   "source": [
    "# components we created before\n",
    "# assign vs search endpoint by username\n",
    "vs_endpoint_prefix = \"vs_endpoint_\"\n",
    "\n",
    "vs_endpoint_name = vs_endpoint_prefix + \"1\"\n",
    "print(f\"Assigned Vector Search endpoint name: {vs_endpoint_name}.\")\n",
    "\n",
    "vs_index_fullname = \"workspace.default.pdf_text_self_managed_vs_index\""
   ]
  },
  {
   "cell_type": "code",
   "execution_count": 0,
   "metadata": {
    "application/vnd.databricks.v1+cell": {
     "cellMetadata": {
      "byteLimit": 2048000,
      "rowLimit": 10000
     },
     "inputWidgets": {},
     "nuid": "0f45228c-3428-436a-a85d-719e61849ae2",
     "showTitle": false,
     "title": ""
    }
   },
   "outputs": [
    {
     "output_type": "stream",
     "name": "stderr",
     "output_type": "stream",
     "text": [
      "INFO:py4j.clientserver:Received command c on object id p0\n"
     ]
    },
    {
     "output_type": "stream",
     "name": "stdout",
     "output_type": "stream",
     "text": [
      "https://dbc-540a8fab-a6c9.cloud.databricks.com\n"
     ]
    }
   ],
   "source": [
    "host = \"https://\"+spark.conf.get(\"spark.databricks.workspaceUrl\")\n",
    "print(host)\n"
   ]
  },
  {
   "cell_type": "code",
   "execution_count": 0,
   "metadata": {
    "application/vnd.databricks.v1+cell": {
     "cellMetadata": {
      "byteLimit": 2048000,
      "rowLimit": 10000
     },
     "inputWidgets": {},
     "nuid": "c63a7948-8274-4d62-9b5d-5a37c2de29da",
     "showTitle": false,
     "title": ""
    }
   },
   "outputs": [
    {
     "output_type": "stream",
     "name": "stdout",
     "output_type": "stream",
     "text": [
      "Relevant documents: [Document(metadata={'source': 'dbfs:/Volumes/workspace/default/raw_data/KB0000029.pdf'}, page_content=\"It is critical that you pause and think before replying to \\nany spam. Consider the following guidelines: \\nSetting up your email account to generate automatic responses while you are away can have the unfortunate side-effect of verifying your email address to \\nevery spammer that sends you spam.\\xa0If the message appears to come from a legitimate company, the company may have obtained your email address from \\nsome transaction between you and the company. In fact, you may have inadvertently provided your email address (e.g., if you didn't check a box \\nmarked\\xa0Don't send me product updates). In these cases, it is usually safe to reply and ask to be removed from the mailing list.\\xa0If it is not a company you \\nrecognize, use your judgment. To be safe, copy and paste the link to the company's site into the browser rather than clicking it in the email message.\\xa0If the \\nspam is clearly from a disreputable source,\\xa0never\\xa0respond. Do not follow the (probably bogus) unsubscribe directions. In most cases, if you never reply, the \\nnetwork of spammers will eventually decide your email address is a dud\\n, and will stop using it as often. \\nBe careful releasing your email address, and know how it will be used \\nEvery time you communicate on the Internet or browse a web site, there are opportunities for spammers to intercept your communications to obtain your \\nemail address and other personal information. \\nOtherwise reputable companies may sell or exchange your email address with other companies, and this information may eventually find its way to a \\nspammer. At worst, spammers will use automated programs to bombard these lists of email addresses with spam. Consider the following guidelines: \\nSubscribe only to essential discussion lists, and ensure that they are moderated.\\xa0Think twice before offering your email address to a web site. You may wish \\nto check the site's privacy policy first to be sure it uses secure technology, and that the company does not share your email address with others.\"), Document(metadata={'source': 'dbfs:/Volumes/workspace/default/raw_data/KB0000011.pdf'}, page_content=\"Knowledge List Page 1\\nRun By : System Administrator 2024-10-22 22:39:34 Pacific Daylight TimeReport Title: Knowledge List\\nRun Date and Time: 2024-10-22 22:39:34 Pacific Daylight Time\\nRun by: System Administrator\\nTable name: kb_knowledge\\nQuery Condition: Number = KB0000011\\nSort Order: Number in descending order\\n1 Knowledge\\n▼ Number Short description Author Category Workflow Updated\\nKB0000011 How to Deal with Spam Ron Kettering Email Published 2014-12-19 07:54:36\\nKnowledge List Page 2\\nRun By : System Administrator 2024-10-22 22:39:34 Pacific Daylight TimeKnowledge\\nNumber: KB0000011\\nKnowledge base: IT\\nCategory: Email\\nPublished: 2014-09-09\\nValid to: 2100-01-01Article type: HTML\\nWorkflow: Published\\nSource Task:\\nAttachment link: false\\nDisplay attachments: false\\nShort description:\\nHow to Deal with Spam\\nArticle body:\\nHow to Deal with Spam \\nSpam\\xa0has increasingly become a problem on the Internet. While every Internet user receives some spam, email addresses posted to web sites or in \\nnewsgroups and chat rooms attract the most spam. \\nTo reduce the amount of spam you receive: \\nDon't reply to spamBe careful releasing your email address, and know how it will be usedBe proactive \\xa0 \\nDon't reply to spam \\nIf you reply to spam, the spammer or the automated program on the other end will then know that your address is connected to a live person, and the \\nspammer will then bombard you with even more spam, and circulate your address to other spammers. It is critical that you pause and think before replying to \\nany spam. Consider the following guidelines: \\nSetting up your email account to generate automatic responses while you are away can have the unfortunate side-effect of verifying your email address to \\nevery spammer that sends you spam.\\xa0If the message appears to come from a legitimate company, the company may have obtained your email address from \\nsome transaction between you and the company. In fact, you may have inadvertently provided your email address (e.g., if you didn't check a box \\nmarked\\xa0Don't send me product updates).\")]\n"
     ]
    }
   ],
   "source": [
    "from databricks.vector_search.client import VectorSearchClient\n",
    "from langchain.embeddings import DatabricksEmbeddings\n",
    "from langchain_core.runnables import RunnableLambda\n",
    "from langchain.docstore.document import Document\n",
    "from flashrank import Ranker, RerankRequest\n",
    "from langchain_community.chat_models import ChatDatabricks\n",
    "\n",
    "def get_retriever(cache_dir=\"/tmp\"):\n",
    "\n",
    "    def retrieve(query, k: int=10):\n",
    "        if isinstance(query, dict):\n",
    "            query = next(iter(query.values()))\n",
    "\n",
    "        # get the vector search index\n",
    "        vsc = VectorSearchClient(disable_notice=True)\n",
    "        vs_index = vsc.get_index(endpoint_name=vs_endpoint_name, index_name=vs_index_fullname)\n",
    "        \n",
    "        # get the query vector\n",
    "        embeddings = DatabricksEmbeddings(endpoint=\"RAGdatabricks-gte-base-en\")\n",
    "        query_vector = embeddings.embed_query(query)\n",
    "        \n",
    "        # get similar k documents\n",
    "        return query, vs_index.similarity_search(\n",
    "            query_vector=query_vector,\n",
    "            columns=[\"pdf_name\", \"content\"],\n",
    "            num_results=k)\n",
    "\n",
    "    def rerank(query, retrieved, cache_dir, k: int=2):\n",
    "        # format result to align with reranker lib format \n",
    "        passages = []\n",
    "        for doc in retrieved.get(\"result\", {}).get(\"data_array\", []):\n",
    "            new_doc = {\"file\": doc[0], \"text\": doc[1]}\n",
    "            passages.append(new_doc)       \n",
    "        # Load the flashrank ranker\n",
    "        ranker = Ranker(model_name=\"rank-T5-flan\", cache_dir=cache_dir)\n",
    "\n",
    "        # rerank the retrieved documents\n",
    "        rerankrequest = RerankRequest(query=query, passages=passages)\n",
    "        results = ranker.rerank(rerankrequest)[:k]\n",
    "\n",
    "        # format the results of rerank to be ready for prompt\n",
    "        return [Document(page_content=r.get(\"text\"), metadata={\"source\": r.get(\"file\")}) for r in results]\n",
    "\n",
    "    # the retriever is a runnable sequence of retrieving and reranking.\n",
    "    return RunnableLambda(retrieve) | RunnableLambda(lambda x: rerank(x[0], x[1], cache_dir))\n",
    "\n",
    "# test our retriever\n",
    "question = {\"input\": \"What is Spam??\"}\n",
    "vectorstore = get_retriever(cache_dir =\"/Workspace/Shared/Ticket Resolution using Gen AI/opt\")\n",
    "similar_documents = vectorstore.invoke(question)\n",
    "print(f\"Relevant documents: {similar_documents}\")"
   ]
  },
  {
   "cell_type": "markdown",
   "metadata": {
    "application/vnd.databricks.v1+cell": {
     "cellMetadata": {},
     "inputWidgets": {},
     "nuid": "5520545a-b1ed-4939-877e-66ce0c157f0c",
     "showTitle": false,
     "title": ""
    }
   },
   "source": [
    "\n",
    "### Setup the Foundation Model\n",
    "\n",
    "Building the Databricks Chat Model to query the \"llama-3-1-8b-instruct\" foundation model."
   ]
  },
  {
   "cell_type": "code",
   "execution_count": 0,
   "metadata": {
    "application/vnd.databricks.v1+cell": {
     "cellMetadata": {
      "byteLimit": 2048000,
      "rowLimit": 10000
     },
     "inputWidgets": {},
     "nuid": "62e0f661-e5dd-4b9e-9c9e-00fbdd22dafe",
     "showTitle": false,
     "title": ""
    }
   },
   "outputs": [
    {
     "output_type": "stream",
     "name": "stdout",
     "output_type": "stream",
     "text": [
      "Test chat model: content=\"The eternal struggle against spam! Here are some effective ways to reduce the amount of spam you receive:\\n\\n1. **Unsubscribe from unwanted emails**: Look for the unsubscribe link at the bottom of spam emails and remove yourself from the sender's list. Be cautious, as some spammers may use fake unsubscribe links to harvest more email addresses.\\n2. **Use a spam filter**: Most email providers, such as Gmail, Yahoo, and Outlook, have built-in spam filters. You can also use third-party spam filters like SpamAssassin or SpamSieve.\\n3. **Report spam**: Mark emails as spam or report them to your email provider. This helps them improve their spam detection algorithms.\\n4. **Use a strong password**: Use a unique, complex password for your email account. This will make it harder for spammers to guess or crack your password.\\n5. **Don't respond to spam**: Avoid responding to spam emails, as this can confirm to the spammer that your email address is active and may lead to more spam.\\n6. **Don't click on links or download attachments**: Be cautious when clicking on links or downloading attachments from unknown senders. These may contain malware or phishing scams.\\n7. **Use a disposable email address**: Consider using a disposable email address or a temporary email address for online transactions or sign-ups. This can help protect your primary email address from spam.\\n8. **Use a spam-blocking browser extension**: Browser extensions like uBlock Origin, Ghostery,\" response_metadata={'prompt_tokens': 20, 'completion_tokens': 300, 'total_tokens': 320} id='run-414f39e3-0019-477d-99fa-79fd57e49a53-0'\n"
     ]
    }
   ],
   "source": [
    "from langchain_community.chat_models import ChatDatabricks\n",
    "\n",
    "# test Databricks Foundation LLM model\n",
    "chat_model = ChatDatabricks(endpoint=\"RAGdatabricks-meta-llama-3-1-8b-instruct\", max_tokens = 300)\n",
    "print(f\"Test chat model: {chat_model.invoke('How to reduce the amount of spam you receive?')}\")"
   ]
  },
  {
   "cell_type": "code",
   "execution_count": 0,
   "metadata": {
    "application/vnd.databricks.v1+cell": {
     "cellMetadata": {
      "byteLimit": 2048000,
      "rowLimit": 10000
     },
     "inputWidgets": {},
     "nuid": "263dae0b-d5b5-4138-b26a-8584006016d6",
     "showTitle": false,
     "title": ""
    }
   },
   "outputs": [
    {
     "output_type": "stream",
     "name": "stderr",
     "output_type": "stream",
     "text": [
      "INFO:py4j.clientserver:Received command c on object id p0\n"
     ]
    }
   ],
   "source": [
    "from langchain.chains import create_retrieval_chain\n",
    "from langchain.chains.combine_documents import create_stuff_documents_chain\n",
    "from langchain.prompts import PromptTemplate\n",
    "\n",
    "\n",
    "\n",
    "TEMPLATE = \"\"\"You are an assistant for incident resolution within a ServiceNow environment, specializing in providing solutions based on relevant knowledge base (KB) articles. You answer questions related to resolving ServiceNow incidents by referencing similar incidents and solutions documented in KB articles. If the question is outside the scope of ServiceNow incident resolution, kindly decline to answer. If the relevant information is not available, simply state that the answer is not available. Keep the response concise and focused.\n",
    "\n",
    "Use the following pieces of context from the KB articles to answer the question below and provide the KB article number:\n",
    "\n",
    "<context>\n",
    "{context}\n",
    "</context>\n",
    "\n",
    "Question: {input}\n",
    "\n",
    "Answer:\n",
    "\"\"\"\n",
    "prompt = PromptTemplate(template=TEMPLATE, input_variables=[\"context\", \"input\"])\n",
    "\n",
    "# unwrap the longchain document from the context to be a dict so we can register the signature in mlflow\n",
    "def unwrap_document(answer):\n",
    "  return answer | {\"context\": [{\"metadata\": r.metadata, \"page_content\": r.page_content} for r in answer[\"context\"]]}\n",
    "\n",
    "question_answer_chain = create_stuff_documents_chain(chat_model, prompt)\n",
    "chain = create_retrieval_chain(get_retriever(), question_answer_chain)|RunnableLambda(unwrap_document)\n",
    "\n"
   ]
  },
  {
   "cell_type": "code",
   "execution_count": 0,
   "metadata": {
    "application/vnd.databricks.v1+cell": {
     "cellMetadata": {
      "byteLimit": 2048000,
      "rowLimit": 10000
     },
     "inputWidgets": {},
     "nuid": "7074fea2-2418-4278-811e-cf97e3233367",
     "showTitle": false,
     "title": ""
    }
   },
   "outputs": [
    {
     "output_type": "stream",
     "name": "stderr",
     "output_type": "stream",
     "text": [
      "INFO:flashrank.Ranker:Downloading rank-T5-flan...\n\rrank-T5-flan.zip:   0%|          | 0.00/73.7M [00:00<?, ?iB/s]\rrank-T5-flan.zip:   6%|▌         | 4.45M/73.7M [00:00<00:01, 46.2MiB/s]\rrank-T5-flan.zip:  12%|█▏        | 8.86M/73.7M [00:00<00:01, 44.4MiB/s]\rrank-T5-flan.zip:  18%|█▊        | 13.1M/73.7M [00:00<00:01, 43.5MiB/s]\rrank-T5-flan.zip:  23%|██▎       | 17.3M/73.7M [00:00<00:01, 43.1MiB/s]\rrank-T5-flan.zip:  29%|██▉       | 21.4M/73.7M [00:00<00:01, 43.2MiB/s]\rrank-T5-flan.zip:  35%|███▍      | 25.5M/73.7M [00:00<00:01, 42.9MiB/s]\rrank-T5-flan.zip:  40%|████      | 29.7M/73.7M [00:00<00:01, 42.8MiB/s]\rrank-T5-flan.zip:  46%|████▌     | 34.0M/73.7M [00:00<00:00, 42.8MiB/s]\rrank-T5-flan.zip:  52%|█████▏    | 38.2M/73.7M [00:00<00:00, 42.8MiB/s]\rrank-T5-flan.zip:  58%|█████▊    | 42.5M/73.7M [00:01<00:00, 43.0MiB/s]\rrank-T5-flan.zip:  63%|██████▎   | 46.7M/73.7M [00:01<00:00, 43.2MiB/s]\rrank-T5-flan.zip:  69%|██████▉   | 51.0M/73.7M [00:01<00:00, 43.1MiB/s]\rrank-T5-flan.zip:  75%|███████▍  | 55.2M/73.7M [00:01<00:00, 43.0MiB/s]\rrank-T5-flan.zip:  81%|████████  | 59.5M/73.7M [00:01<00:00, 42.9MiB/s]\rrank-T5-flan.zip:  86%|████████▋ | 63.7M/73.7M [00:01<00:00, 43.1MiB/s]\rrank-T5-flan.zip:  92%|█████████▏| 68.0M/73.7M [00:01<00:00, 43.1MiB/s]\rrank-T5-flan.zip:  98%|█████████▊| 72.1M/73.7M [00:01<00:00, 42.7MiB/s]\rrank-T5-flan.zip: 100%|██████████| 73.7M/73.7M [00:01<00:00, 43.2MiB/s]\nINFO:py4j.clientserver:Closing down clientserver connection\nINFO:py4j.clientserver:Closing down clientserver connection\n"
     ]
    },
    {
     "output_type": "stream",
     "name": "stdout",
     "output_type": "stream",
     "text": [
      "{'input': 'How to reduce the amount of spam you receive?', 'context': [{'metadata': {'source': 'dbfs:/Volumes/workspace/default/raw_data/KB0000028.pdf'}, 'page_content': 'Email Tips and Tricks\\n2019-02-21 21:49:44 KB0000028 What are phishing \\nscams and how can I \\navoid them? Email Tips and Tricks\\nKnowledge Details Page 4\\nRun By : System Administrator 2024-10-21 23:04:57 Pacific Daylight TimeCreated Article Short description Topic Category Comments\\n2019-02-21 20:09:49 KB0000028 What are phishing \\nscams and how can I \\navoid them? Email Tips and Tricks <p>&nbsp;The best \\ndefense against spear \\nphishing is to carefully, \\nsecurely discard \\ninformation (i.e., using a \\ncross-cut shredder) that \\ncould be used in such an \\nattack. Further, be \\naware of data that may \\nbe relatively easily \\nobtainable (e.g., your \\ntitle at work, your \\nfavorite places, or where \\nyou bank), and think \\nbefore acting on \\nseemingly random \\nrequests via email or \\nphone.</p>\\n2019-02-21 20:09:16 KB0000028 What are phishing \\nscams and how can I \\navoid them? Email Tips and Tricks <p>&nbsp;Phishing \\nattacks directed at \\nspecific individuals, \\nroles, or organizations \\nare referred to as \"spear \\nphishing\". Since these \\nattacks are so pointed, \\nattackers may go to \\ngreat lengths to gather \\nspecific personal or \\ninstitutional information \\nin the hope of making \\nthe attack more \\nbelievable and \\nincreasing the likelihood \\nof its success.</p>\\nRelated List Title: Knowledge Feedback Task List\\nTable name: kb_feedback_task\\nQuery Condition: Feedback Article = KB0000028 AND Parent = (empty)\\nSort Order: Created in descending order\\nNone\\nRelated List Title: Approval List\\nTable name: sysapproval_approver\\nQuery Condition: Source table = kb_knowledge AND Approving = 3020c9b1474321009db4b5b08b9a712d AND State != No Longer Required\\nSort Order: Order in ascending order\\nKnowledge Details Page 5\\nRun By : System Administrator 2024-10-21 23:04:57 Pacific Daylight TimeNone'}, {'metadata': {'source': 'dbfs:/Volumes/workspace/default/raw_data/KB0000029.pdf'}, 'page_content': \"It is critical that you pause and think before replying to \\nany spam. Consider the following guidelines: \\nSetting up your email account to generate automatic responses while you are away can have the unfortunate side-effect of verifying your email address to \\nevery spammer that sends you spam.\\xa0If the message appears to come from a legitimate company, the company may have obtained your email address from \\nsome transaction between you and the company. In fact, you may have inadvertently provided your email address (e.g., if you didn't check a box \\nmarked\\xa0Don't send me product updates). In these cases, it is usually safe to reply and ask to be removed from the mailing list.\\xa0If it is not a company you \\nrecognize, use your judgment. To be safe, copy and paste the link to the company's site into the browser rather than clicking it in the email message.\\xa0If the \\nspam is clearly from a disreputable source,\\xa0never\\xa0respond. Do not follow the (probably bogus) unsubscribe directions. In most cases, if you never reply, the \\nnetwork of spammers will eventually decide your email address is a dud\\n, and will stop using it as often. \\nBe careful releasing your email address, and know how it will be used \\nEvery time you communicate on the Internet or browse a web site, there are opportunities for spammers to intercept your communications to obtain your \\nemail address and other personal information. \\nOtherwise reputable companies may sell or exchange your email address with other companies, and this information may eventually find its way to a \\nspammer. At worst, spammers will use automated programs to bombard these lists of email addresses with spam. Consider the following guidelines: \\nSubscribe only to essential discussion lists, and ensure that they are moderated.\\xa0Think twice before offering your email address to a web site. You may wish \\nto check the site's privacy policy first to be sure it uses secure technology, and that the company does not share your email address with others.\"}], 'answer': \"Based on the provided KB article, here's the answer:\\n\\nTo reduce the amount of spam you receive, consider the following guidelines:\\n\\n* Be cautious when providing your email address, and know how it will be used.\\n* Subscribe only to essential discussion lists, and ensure they are moderated.\\n* Think twice before offering your email address to a web site. Check the site's privacy policy first to ensure it uses secure technology and does not share your email address with others.\\n\\nKB Article Number: KB0000028\"}\n"
     ]
    }
   ],
   "source": [
    "question = {\"input\": \"How to reduce the amount of spam you receive?\"}\n",
    "answer = chain.invoke(question)\n",
    "print(answer)"
   ]
  },
  {
   "cell_type": "markdown",
   "metadata": {
    "application/vnd.databricks.v1+cell": {
     "cellMetadata": {},
     "inputWidgets": {},
     "nuid": "9b53ae8b-18e3-4bd8-b156-ab9c847b2bf4",
     "showTitle": false,
     "title": ""
    }
   },
   "source": [
    "\n",
    "#### Save the Model to Model Registry in UC\n"
   ]
  },
  {
   "cell_type": "code",
   "execution_count": 0,
   "metadata": {
    "application/vnd.databricks.v1+cell": {
     "cellMetadata": {
      "byteLimit": 2048000,
      "rowLimit": 10000
     },
     "inputWidgets": {},
     "nuid": "3bbb80e4-9bdb-450a-9417-5f27d8a1b8e9",
     "showTitle": false,
     "title": ""
    }
   },
   "outputs": [
    {
     "output_type": "stream",
     "name": "stderr",
     "output_type": "stream",
     "text": [
      "INFO:py4j.clientserver:Received command c on object id p0\n/local_disk0/.ephemeral_nfs/envs/pythonEnv-84d61e60-8c1f-44cf-91ad-0e724bb7db17/lib/python3.10/site-packages/langchain_community/llms/loading.py:54: LangChainDeprecationWarning: `` was deprecated in LangChain 0.0.22 and will be removed in 0.3. An updated version of the  exists in the langchain-community package and should be used instead. To use it run `pip install -U langchain-community` and import as `from langchain_community.chat_models import ChatDatabricks`.\n  return load_llm_from_config(config, **kwargs)\n/databricks/python/lib/python3.10/site-packages/_distutils_hack/__init__.py:33: UserWarning: Setuptools is replacing distutils.\n  warnings.warn(\"Setuptools is replacing distutils.\")\n"
     ]
    },
    {
     "output_type": "display_data",
     "data": {
      "application/vnd.jupyter.widget-view+json": {
       "model_id": "6991644feeb9408faedd1cfc0f5dde84",
       "version_major": 2,
       "version_minor": 0
      },
      "text/plain": [
       "Uploading artifacts:   0%|          | 0/35 [00:00<?, ?it/s]"
      ]
     },
     "metadata": {},
     "output_type": "display_data"
    },
    {
     "output_type": "stream",
     "name": "stderr",
     "output_type": "stream",
     "text": [
      "Successfully registered model 'workspace.default.rag_app_2v'.\n"
     ]
    },
    {
     "output_type": "display_data",
     "data": {
      "application/vnd.jupyter.widget-view+json": {
       "model_id": "9849c0a2def640089b73f796ddda0587",
       "version_major": 2,
       "version_minor": 0
      },
      "text/plain": [
       "Uploading artifacts:   0%|          | 0/35 [00:00<?, ?it/s]"
      ]
     },
     "metadata": {},
     "output_type": "display_data"
    },
    {
     "output_type": "stream",
     "name": "stderr",
     "output_type": "stream",
     "text": [
      "Created version '1' of model 'workspace.default.rag_app_2v'.\n"
     ]
    }
   ],
   "source": [
    "from mlflow.models import infer_signature\n",
    "import mlflow\n",
    "import langchain\n",
    "\n",
    "\n",
    "# set model registry to UC\n",
    "mlflow.set_registry_uri(\"databricks-uc\")\n",
    "model_name = \"workspace.default.rag_app_2v\"\n",
    "\n",
    "with mlflow.start_run(run_name=\"rag_app_2v\") as run:\n",
    "    signature = infer_signature(question, answer)\n",
    "    model_info = mlflow.langchain.log_model(\n",
    "        chain,\n",
    "        loader_fn=get_retriever, \n",
    "        artifact_path=\"chain\",\n",
    "        registered_model_name=model_name,\n",
    "        pip_requirements=[\n",
    "            \"mlflow==\" + mlflow.__version__,\n",
    "            \"langchain==\" + langchain.__version__,\n",
    "            \"databricks-vectorsearch\",\n",
    "            \"langchain-community==0.2.10\",\n",
    "            \"flashrank==0.2.8\"\n",
    "        ],\n",
    "        input_example=question,\n",
    "        signature=signature\n",
    "    )"
   ]
  },
  {
   "cell_type": "code",
   "execution_count": 0,
   "metadata": {
    "application/vnd.databricks.v1+cell": {
     "cellMetadata": {},
     "inputWidgets": {},
     "nuid": "bf5a37f8-239d-4b92-a906-dda64bea3137",
     "showTitle": false,
     "title": ""
    }
   },
   "outputs": [],
   "source": []
  }
 ],
 "metadata": {
  "application/vnd.databricks.v1+notebook": {
   "dashboards": [],
   "environmentMetadata": {
    "base_environment": "",
    "client": "1"
   },
   "language": "python",
   "notebookMetadata": {
    "pythonIndentUnit": 4
   },
   "notebookName": "3.Final RAG Application",
   "widgets": {}
  }
 },
 "nbformat": 4,
 "nbformat_minor": 0
}
