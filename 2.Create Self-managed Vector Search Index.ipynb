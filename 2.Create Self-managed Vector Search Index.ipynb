{
 "cells": [
  {
   "cell_type": "markdown",
   "metadata": {
    "application/vnd.databricks.v1+cell": {
     "cellMetadata": {},
     "inputWidgets": {},
     "nuid": "a9e5575e-0dda-4a75-b2fd-21158ccd708e",
     "showTitle": false,
     "title": ""
    }
   },
   "source": [
    "# Self-Managed Vector Search Index\n",
    "Configure Databricks Vector Search to ingest data from table the we create in the Data Prepartion notebook\n"
   ]
  },
  {
   "cell_type": "markdown",
   "metadata": {
    "application/vnd.databricks.v1+cell": {
     "cellMetadata": {},
     "inputWidgets": {},
     "nuid": "8cc10716-e5ac-4fe1-ae64-7fb31f84ec92",
     "showTitle": false,
     "title": ""
    }
   },
   "source": [
    "Install the required libraries and include the helper function"
   ]
  },
  {
   "cell_type": "code",
   "execution_count": 0,
   "metadata": {
    "application/vnd.databricks.v1+cell": {
     "cellMetadata": {
      "byteLimit": 2048000,
      "rowLimit": 10000
     },
     "inputWidgets": {},
     "nuid": "c3264808-45ba-4b2f-810d-a35f87307756",
     "showTitle": false,
     "title": ""
    }
   },
   "outputs": [
    {
     "output_type": "stream",
     "name": "stdout",
     "output_type": "stream",
     "text": [
      "\u001B[43mNote: you may need to restart the kernel using %restart_python or dbutils.library.restartPython() to use updated packages.\u001B[0m\n"
     ]
    }
   ],
   "source": [
    "%pip install -U --quiet mlflow==2.14.3 databricks-vectorsearch==0.40 transformers==4.43.3 langchain==0.2.11 langchain-community==0.2.10 pydantic==2.8.2 flashrank==0.2.8 accelerate PyPDF2\n",
    "dbutils.library.restartPython()"
   ]
  },
  {
   "cell_type": "code",
   "execution_count": 0,
   "metadata": {
    "application/vnd.databricks.v1+cell": {
     "cellMetadata": {
      "byteLimit": 2048000,
      "rowLimit": 10000
     },
     "inputWidgets": {},
     "nuid": "8b5738ed-ed50-4bcc-b921-f95706e62427",
     "showTitle": false,
     "title": ""
    }
   },
   "outputs": [],
   "source": [
    "%run ../Includes/_helper_functions"
   ]
  },
  {
   "cell_type": "markdown",
   "metadata": {
    "application/vnd.databricks.v1+cell": {
     "cellMetadata": {},
     "inputWidgets": {},
     "nuid": "8e86a67a-6a35-4336-a79c-1f2281920392",
     "showTitle": false,
     "title": ""
    }
   },
   "source": [
    "Create the vector search endpoint with 'vs_endpoint_' as prefix"
   ]
  },
  {
   "cell_type": "code",
   "execution_count": 0,
   "metadata": {
    "application/vnd.databricks.v1+cell": {
     "cellMetadata": {
      "byteLimit": 2048000,
      "rowLimit": 10000
     },
     "inputWidgets": {},
     "nuid": "3543b0aa-ad8d-40ad-8a29-8081e7c99a7a",
     "showTitle": false,
     "title": ""
    }
   },
   "outputs": [
    {
     "output_type": "stream",
     "name": "stdout",
     "output_type": "stream",
     "text": [
      "Assigned Vector Search endpoint name: vs_endpoint_1.\n"
     ]
    }
   ],
   "source": [
    "# assign vs search endpoint by username\n",
    "vs_endpoint_prefix = \"vs_endpoint_\"\n",
    "vs_endpoint_name = vs_endpoint_prefix + \"1\"\n",
    "print(f\"Assigned Vector Search endpoint name: {vs_endpoint_name}.\")"
   ]
  },
  {
   "cell_type": "code",
   "execution_count": 0,
   "metadata": {
    "application/vnd.databricks.v1+cell": {
     "cellMetadata": {
      "byteLimit": 2048000,
      "rowLimit": 10000
     },
     "inputWidgets": {},
     "nuid": "19404001-418d-4666-8639-d554cdc2b5a2",
     "showTitle": false,
     "title": ""
    }
   },
   "outputs": [],
   "source": [
    "from databricks.vector_search.client import VectorSearchClient\n",
    "from databricks.sdk import WorkspaceClient\n",
    "import databricks.sdk.service.catalog as c\n",
    "\n",
    "vsc = VectorSearchClient(disable_notice=True)"
   ]
  },
  {
   "cell_type": "code",
   "execution_count": 0,
   "metadata": {
    "application/vnd.databricks.v1+cell": {
     "cellMetadata": {
      "byteLimit": 2048000,
      "rowLimit": 10000
     },
     "inputWidgets": {},
     "nuid": "eeab68f7-c534-4d5c-87a3-984e66551c0b",
     "showTitle": false,
     "title": ""
    }
   },
   "outputs": [],
   "source": [
    "# IF YOU HAVE ENDPOINT CREATION PERMISSIONS, UNCOMMENT THIS CODE AND RUN IT TO CREATE AN ENDPOINT\n",
    "\n",
    "vsc.create_endpoint(name=vs_endpoint_name, endpoint_type=\"STANDARD\")"
   ]
  },
  {
   "cell_type": "code",
   "execution_count": 0,
   "metadata": {
    "application/vnd.databricks.v1+cell": {
     "cellMetadata": {
      "byteLimit": 2048000,
      "rowLimit": 10000
     },
     "inputWidgets": {},
     "nuid": "eaa29a19-636d-4958-823a-7a282cbda558",
     "showTitle": false,
     "title": ""
    }
   },
   "outputs": [
    {
     "output_type": "stream",
     "name": "stdout",
     "output_type": "stream",
     "text": [
      "Endpoint named vs_endpoint_1 is ready.\n"
     ]
    }
   ],
   "source": [
    "wait_for_vs_endpoint_to_be_ready(vsc, vs_endpoint_name)\n",
    "print(f\"Endpoint named {vs_endpoint_name} is ready.\")"
   ]
  },
  {
   "cell_type": "markdown",
   "metadata": {
    "application/vnd.databricks.v1+cell": {
     "cellMetadata": {},
     "inputWidgets": {},
     "nuid": "2a98f98d-70b1-4a16-be1f-fdae63e74918",
     "showTitle": false,
     "title": ""
    }
   },
   "source": [
    "### Connect Delta Table with Vector Search Endpoint\n",
    "\n",
    "After creating the endpoint, we created the **vector search index**. The vector search index is created from a Delta table and is optimized to provide real-time approximate nearest neighbor searches."
   ]
  },
  {
   "cell_type": "code",
   "execution_count": 0,
   "metadata": {
    "application/vnd.databricks.v1+cell": {
     "cellMetadata": {
      "byteLimit": 2048000,
      "rowLimit": 10000
     },
     "inputWidgets": {},
     "nuid": "d0b8e258-9e74-49a9-9607-4b31027b4470",
     "showTitle": false,
     "title": ""
    }
   },
   "outputs": [],
   "source": [
    "# the table we'd like to index\n",
    "source_table_fullname = \"workspace.default.pdf_text_embeddings\"\n",
    "\n",
    "# where we want to store our index\n",
    "vs_index_fullname = \"workspace.default.pdf_text_self_managed_vs_index\"\n",
    "\n",
    "# create or sync the index\n",
    "if not index_exists(vsc, vs_endpoint_name, vs_index_fullname):\n",
    "  print(f\"Creating index {vs_index_fullname} on endpoint {vs_endpoint_name}...\")\n",
    "  vsc.create_delta_sync_index(\n",
    "    endpoint_name=vs_endpoint_name,\n",
    "    index_name=vs_index_fullname,\n",
    "    source_table_name=source_table_fullname,\n",
    "    pipeline_type=\"TRIGGERED\", # Sync needs to be manually triggered\n",
    "    primary_key=\"id\",\n",
    "    embedding_dimension=768, # Match your model embedding size (gte)\n",
    "    embedding_vector_column=\"embedding\"\n",
    "  )\n",
    "else:\n",
    "  # trigger a sync to update our vs content with the new data saved in the table\n",
    "  vsc.get_index(vs_endpoint_name, vs_index_fullname).sync()\n",
    "\n",
    "# let's wait for the index to be ready and all our embeddings to be created and indexed\n",
    "wait_for_index_to_be_ready(vsc, vs_endpoint_name, vs_index_fullname)"
   ]
  },
  {
   "cell_type": "markdown",
   "metadata": {
    "application/vnd.databricks.v1+cell": {
     "cellMetadata": {},
     "inputWidgets": {},
     "nuid": "a22cfe5d-843e-4357-964e-05d16e902508",
     "showTitle": false,
     "title": ""
    }
   },
   "source": [
    "Search for Similar Content"
   ]
  },
  {
   "cell_type": "code",
   "execution_count": 0,
   "metadata": {
    "application/vnd.databricks.v1+cell": {
     "cellMetadata": {
      "byteLimit": 2048000,
      "rowLimit": 10000
     },
     "inputWidgets": {},
     "nuid": "e890803d-d7a4-4eb2-b628-f896f67a0c22",
     "showTitle": false,
     "title": ""
    }
   },
   "outputs": [
    {
     "output_type": "stream",
     "name": "stdout",
     "output_type": "stream",
     "text": [
      "[[0.2325439453125, -0.0018243789672851562, 0.300537109375, -0.19775390625, 0.70458984375, -0.195068359375, 0.85107421875, -1.67578125, 1.662109375, -0.476318359375, 0.1341552734375, -1.5048828125, 0.441162109375, -0.1219482421875, 1.9208984375, -0.158203125, -1.40625, 0.05926513671875, 0.313720703125, 0.52001953125, -0.12237548828125, -0.71435546875, 0.68798828125, 0.595703125, -0.223388671875, -0.1600341796875, -0.4560546875, 0.335205078125, -0.861328125, -0.68505859375, 0.287841796875, -0.219970703125, 0.65869140625, 0.99267578125, -0.35693359375, -0.245849609375, -1.1181640625, 1.2421875, -0.002536773681640625, -0.505859375, -0.4296875, 0.6826171875, -0.09503173828125, -0.9521484375, 2.4765625, 0.77783203125, -0.58203125, -0.00829315185546875, 0.274169921875, -0.9677734375, 0.2152099609375, 1.48046875, -0.5029296875, -0.9404296875, -0.6455078125, 0.98291015625, 0.6552734375, -0.222412109375, -0.669921875, -1.5947265625, -0.491455078125, 0.07080078125, -0.279296875, -0.454833984375, 0.25830078125, 0.038970947265625, 0.76318359375, -0.438720703125, 1.0751953125, -0.48291015625, -0.190185546875, 0.00856781005859375, 0.29150390625, -0.70068359375, 0.2587890625, -1.162109375, 0.57080078125, -0.43994140625, -0.18359375, 1.2138671875, -0.29345703125, -0.392822265625, 0.042938232421875, -0.6103515625, -0.4931640625, 0.4189453125, -0.393310546875, 0.3017578125, -2.009765625, -0.0887451171875, -0.126953125, 2.072265625, 0.8427734375, 0.46337890625, -0.505859375, 0.50244140625, 0.8837890625, 0.7861328125, -0.04541015625, -0.11053466796875, 0.39892578125, -0.28955078125, -0.1527099609375, 0.1414794921875, -0.300048828125, 0.445556640625, -0.52783203125, -0.69384765625, -0.59716796875, 0.517578125, 0.425537109375, -0.3515625, 1.4443359375, 0.65478515625, -0.99267578125, -0.646484375, 0.89013671875, -0.64599609375, -0.6806640625, 0.80908203125, -0.95361328125, 0.2587890625, -0.7587890625, 0.64794921875, 0.28271484375, -0.012664794921875, 0.316650390625, 0.1253662109375, -0.74560546875, -0.04156494140625, 0.11187744140625, 0.454345703125, -1.1455078125, -0.1070556640625, -0.50341796875, 0.5966796875, -0.62548828125, 0.436767578125, 0.292724609375, -0.9130859375, 1.5419921875, 0.023895263671875, -0.08599853515625, -1.5341796875, -0.92578125, 0.96142578125, 0.76611328125, 0.44091796875, 0.7734375, 0.54052734375, -0.8056640625, -0.57373046875, -0.47705078125, 0.79248046875, -0.90283203125, -0.5703125, 0.40380859375, -0.58349609375, 0.568359375, -0.1927490234375, -0.474609375, -0.41650390625, 0.267578125, 0.0283050537109375, 0.422119140625, 0.8984375, 0.11285400390625, -0.12109375, 0.60986328125, -0.1788330078125, 0.99072265625, 0.42236328125, 0.391357421875, 0.225341796875, -0.470703125, 0.43505859375, 0.18359375, -0.59033203125, -0.8759765625, -0.4052734375, 1.037109375, 0.256591796875, 0.52197265625, -1.806640625, -0.005886077880859375, 0.74072265625, -1.1064453125, 0.279052734375, -1.1796875, -1.357421875, 0.603515625, -1.1513671875, -0.2386474609375, -0.64794921875, -0.60595703125, -0.075927734375, 0.2081298828125, 0.1270751953125, -0.8525390625, -0.07049560546875, 0.80810546875, -0.427734375, -0.82763671875, -0.84716796875, -0.40576171875, -0.5869140625, -0.2161865234375, -0.07373046875, -0.87109375, -0.9814453125, -0.32421875, 0.53271484375, -0.318115234375, -0.033721923828125, -0.08843994140625, -1.025390625, -0.012481689453125, 0.018829345703125, -0.0694580078125, 0.64013671875, 0.458740234375, -0.65576171875, -1.046875, 0.3125, 0.78662109375, -0.6318359375, 0.0325927734375, 0.07208251953125, 0.28271484375, 1.0654296875, 0.8837890625, -0.1700439453125, 1.0166015625, 0.0219573974609375, 0.4287109375, -0.406005859375, -1.5380859375, -0.55810546875, -0.233154296875, -0.51416015625, 0.1778564453125, 1.1103515625, 0.10638427734375, 1.4638671875, -0.177490234375, -0.58642578125, 1.1142578125, 0.1395263671875, -1.00390625, 0.3466796875, -0.94287109375, 0.70458984375, -1.1142578125, 1.15234375, -1.4365234375, -1.099609375, 0.5390625, -0.89404296875, -0.8310546875, -0.57568359375, -1.0498046875, 0.93310546875, -1.03125, 0.8212890625, 1.0068359375, 0.2431640625, -0.173828125, -0.446044921875, 0.448974609375, -0.64697265625, -0.021881103515625, -0.580078125, -0.0257720947265625, 0.35791015625, -1.3876953125, -0.66650390625, 1.296875, -0.07342529296875, -0.2496337890625, 0.01392364501953125, -0.343505859375, -0.87353515625, 2.30078125, -0.54638671875, -1.435546875, -0.92236328125, -0.89599609375, -0.72705078125, 0.453857421875, -1.2373046875, -1.21484375, 0.342041015625, 0.79541015625, 1.12109375, -0.66796875, 0.03778076171875, -0.78125, 1.044921875, 0.5498046875, -0.2095947265625, 0.42138671875, -0.1890869140625, -0.2587890625, -0.314453125, 1.5712890625, -0.2144775390625, 0.1331787109375, -0.833984375, -1.095703125, -0.8017578125, -0.52099609375, -0.708984375, -0.303466796875, -0.023345947265625, 0.1376953125, -0.54248046875, 0.6044921875, -0.248779296875, 0.187255859375, 0.21533203125, -0.5205078125, -0.78955078125, 0.1962890625, 0.154296875, -0.5224609375, 0.49267578125, 0.80810546875, 0.039581298828125, 1.4013671875, 0.332275390625, 1.162109375, 0.9931640625, 1.171875, 0.83642578125, -0.203125, 0.619140625, 1.0009765625, -0.122314453125, -0.052978515625, 0.353759765625, -0.08746337890625, 0.5107421875, -0.51806640625, 0.8349609375, -0.0465087890625, 0.54541015625, -0.06683349609375, -0.79541015625, 0.10284423828125, 0.451171875, -0.1591796875, -0.2349853515625, -0.654296875, -0.055267333984375, 0.568359375, 0.44287109375, -0.2060546875, -0.93017578125, 0.27880859375, -0.13427734375, 0.26416015625, 1.57421875, -0.2783203125, 0.8525390625, 0.61474609375, -0.85986328125, -0.51708984375, -0.453125, 0.257568359375, 0.337890625, 0.37744140625, 0.54150390625, -1.1015625, -0.373291015625, -1.142578125, 1.294921875, -0.56884765625, 0.8076171875, -0.97216796875, 1.1640625, -0.564453125, -0.54248046875, -0.5234375, -0.252685546875, -0.5244140625, -0.366455078125, -0.16259765625, -0.67724609375, 1.7333984375, 0.375732421875, 1.6923828125, 0.275146484375, 0.5322265625, -0.3505859375, -0.6240234375, -0.10498046875, -1.3134765625, -1.005859375, 0.67822265625, -0.87109375, -0.5595703125, -0.35693359375, -0.412353515625, 0.0333251953125, -0.426513671875, 1.1865234375, 0.60791015625, -0.74609375, -0.62255859375, -0.7314453125, -0.148681640625, -0.73828125, 0.486328125, -1.1005859375, 0.8134765625, -0.88232421875, 0.62353515625, 0.140380859375, -0.62744140625, 0.2440185546875, 0.63037109375, -1.150390625, 0.293212890625, 1.681640625, 0.026885986328125, 0.12115478515625, 0.025299072265625, 0.6376953125, 0.3173828125, -0.4267578125, -0.1431884765625, 0.91357421875, 0.39892578125, -0.89453125, -0.50732421875, 0.14794921875, -0.023834228515625, -1.26953125, -0.61083984375, -0.1876220703125, 0.288330078125, 0.122314453125, 1.240234375, -1.5166015625, -1.2109375, 0.5302734375, -0.6962890625, 0.281005859375, 1.3388671875, -0.2427978515625, -0.169189453125, -0.04547119140625, -0.09033203125, 0.11651611328125, -1.08984375, -0.00659942626953125, 0.8857421875, -0.53515625, -0.3095703125, 0.06085205078125, 0.166748046875, 0.279296875, 0.417236328125, -0.1751708984375, 0.560546875, -0.77978515625, -0.1961669921875, -0.59814453125, 0.75537109375, -0.1925048828125, -1.22265625, 0.361083984375, -0.42626953125, -0.71142578125, 0.147216796875, -0.466064453125, -1.158203125, -0.2281494140625, -1, -0.53564453125, 1.4091796875, 0.065185546875, 0.87255859375, 1.685546875, 0.1602783203125, 0.505859375, 1.2333984375, -0.1544189453125, 0.58935546875, -0.63525390625, 0.306640625, -0.7353515625, -0.79150390625, -0.86767578125, -0.70263671875, 0.109130859375, -0.0704345703125, 0.39501953125, 0.75341796875, -0.127685546875, 0.032135009765625, 0.04022216796875, 0.279052734375, -0.443603515625, -0.38671875, -0.55224609375, 0.2841796875, -0.7470703125, -1.328125, -0.50732421875, -0.7939453125, -0.8896484375, 1.185546875, -0.398681640625, -0.024566650390625, 0.271484375, 0.261474609375, -1.771484375, -1.35546875, -0.6640625, 0.197265625, -0.61376953125, -0.2061767578125, -0.56591796875, -0.2305908203125, 0.6591796875, -0.5703125, 0.06866455078125, -1.166015625, 0.01493072509765625, -0.58203125, -0.482666015625, 0.388427734375, -0.492919921875, 2.36328125, 0.5947265625, 0.473388671875, 0.498046875, 0.450439453125, -0.57080078125, 0.48388671875, 0.2459716796875, -0.33935546875, -0.2279052734375, 0.366455078125, -0.040496826171875, 0.398193359375, 0.8076171875, -1.1669921875, 0.474609375, 0.09527587890625, -0.95751953125, -0.5625, 0.266357421875, 0.64697265625, 1.1953125, -7.6796875, 1.62109375, -0.73486328125, 0.1678466796875, 0.21044921875, 1.7041015625, 1.26171875, -0.6572265625, -1.3984375, 0.297119140625, -0.7294921875, 0.1116943359375, -0.57421875, 1.072265625, 0.46240234375, -0.406005859375, 1.01953125, 0.366943359375, -0.802734375, 0.63720703125, 0.6455078125, 1.41796875, 0.09722900390625, 0.021484375, 0.1058349609375, -0.47998046875, -1.248046875, 1.521484375, 0.226318359375, 0.53662109375, 0.242919921875, -1.4853515625, 0.89208984375, 0.357421875, -0.95654296875, 0.4931640625, -0.54833984375, -0.22802734375, -0.82275390625, 0.3974609375, -1.08203125, 0.154541015625, 0.85595703125, 1.11328125, -0.023284912109375, 0.31103515625, -0.5703125, 0.3330078125, -0.02972412109375, 0.2364501953125, 0.501953125, 0.4091796875, 1.2890625, 0.0247802734375, 0.54443359375, -1.099609375, -0.7255859375, -0.58349609375, 0.755859375, 0.311279296875, 0.203369140625, -1.1650390625, 0.98583984375, -1.4462890625, -0.10931396484375, 0.71875, -0.243896484375, -0.439453125, 0.2335205078125, -0.73876953125, 0.28515625, -0.7314453125, -0.80712890625, -0.15380859375, -1.685546875, -0.53076171875, 1.099609375, 0.5703125, 0.6083984375, 0.40380859375, -0.16748046875, 0.4111328125, -0.53125, 0.09332275390625, -0.5625, -0.1744384765625, -0.1876220703125, 0.2156982421875, -0.75390625, 0.0318603515625, 0.1378173828125, -0.3779296875, -0.028900146484375, -0.59033203125, -0.357177734375, 0.55126953125, 1.1875, -1.1162109375, 1.3359375, -0.77880859375, -1.93359375, 0.1719970703125, -0.298583984375, 0.317626953125, 1.9228515625, 0.53857421875, 0.361328125, 0.00852203369140625, -0.54052734375, -0.363037109375, 0.59619140625, 0.2166748046875, 0.451904296875, -0.73583984375, -1.267578125, -2.3125, 0.43896484375, 0.6796875, 0.71826171875, -0.0178070068359375, -0.052734375, -0.412841796875, -0.0498046875, -0.459228515625, -1.0693359375, -0.57861328125, -0.48046875, -0.5380859375, 0.72119140625, -0.3251953125, 0.371337890625, 1.0439453125, 0.810546875, -0.7333984375, -0.357177734375, -0.334228515625, 0.145263671875, -0.1798095703125, 0.73828125, -0.1627197265625, 0.7724609375, 0.474609375, 0.45166015625, -0.3671875, -0.08514404296875, -0.2032470703125, 0.03271484375, -1.1923828125, -0.35986328125, 0.521484375, -1.009765625, -0.994140625, -0.497314453125, -0.311279296875, 0.6181640625, -0.28125, 0.67919921875, -0.54345703125, 1.0732421875, -0.15576171875, 0.888671875, 0.884765625, 0.5087890625, -0.314453125, -0.982421875, 1.3681640625, -0.3583984375, -0.41015625, -0.455322265625, 0.0299835205078125, 0.166259765625, -0.4130859375, 0.208740234375, 0.35009765625, -0.119140625, 0.1722412109375, 0.494873046875, -0.0257568359375, -0.1456298828125, -0.45703125, -0.16650390625, 0.8466796875, 0.21923828125, -1.4296875, 0.49072265625, -0.58447265625, -0.560546875, 0.478271484375, 0.2030029296875, -0.80859375, -0.09967041015625, -0.17236328125, -0.1805419921875, -0.324951171875, -1.01953125, -1.0830078125, -0.63232421875, -0.431884765625, 1.533203125, 1.1962890625, -0.089599609375, -2.4609375, -0.57958984375, 0.333984375, -0.058135986328125, 0.004730224609375, -0.430419921875, -0.29052734375, 0.71533203125, 1.025390625, -1.171875, -0.6025390625]]\n"
     ]
    }
   ],
   "source": [
    "import mlflow.deployments\n",
    "\n",
    "deploy_client = mlflow.deployments.get_deploy_client(\"databricks\")\n",
    "question = \"what is spam?\"\n",
    "response = deploy_client.predict(endpoint=\"RAGdatabricks-gte-base-en\", inputs={\"input\": [question]})\n",
    "embeddings = [e[\"embedding\"] for e in response.data]\n",
    "print(embeddings)"
   ]
  },
  {
   "cell_type": "code",
   "execution_count": 0,
   "metadata": {
    "application/vnd.databricks.v1+cell": {
     "cellMetadata": {
      "byteLimit": 2048000,
      "rowLimit": 10000
     },
     "inputWidgets": {},
     "nuid": "06596132-c94f-40a5-a6a3-42bf7bbe0152",
     "showTitle": false,
     "title": ""
    }
   },
   "outputs": [
    {
     "output_type": "stream",
     "name": "stdout",
     "output_type": "stream",
     "text": [
      "[{'file': 'dbfs:/Volumes/workspace/default/raw_data/KB0000029.pdf', 'text': 'Knowledge Details Page 1\\nRun By : System Administrator 2024-10-21 08:53:28 Pacific Daylight TimeReport Title: Knowledge Details\\nRun Date and Time: 2024-10-21 08:53:28 Pacific Daylight Time\\nRun by: System Administrator\\nTable name: kb_knowledge\\nKnowledge\\nNumber: KB0000029\\nKnowledge base: IT\\nCategory: Email\\nPublished: 2014-09-09\\nValid to: 2100-01-01Article type: HTML\\nWorkflow: Published\\nSource Task:\\nAttachment link: false\\nDisplay attachments: false\\nShort description:\\nWhat is Spam?\\nArticle body:\\nWhat is Spam? \\nSpam\\xa0has increasingly become a problem on the Internet. While every Internet user receives some spam, email addresses posted to web sites or in \\nnewsgroups and chat rooms attract the most spam.\\' \\nDefinitions \\nThe term \"spam\" is\\xa0Internet\\xa0slang that refers to unsolicited commercial email (UCE) or unsolicited bulk email (UBE). Some people refer to this kind of \\ncommunication as junk email to equate it with the paper junk mail that comes through the US Mail. Unsolicited email most often contains advertisements for \\nservices or products, but very few reputable marketers use UCE to advertise. The most commonly seen spam includes the following: \\nPhishing\\xa0scams, a very popular and dangerous form of email fraudForeign bank scams or advance fee fraud schemesPyramid schemes, including multilevel \\nmarketing (MLM)Other \"Get Rich Quick\" or \"Make Money Fast\" (MMF) schemesQuack health products and remediesAds for pornographic web sitesOffers of \\nsoftware for collecting email addresses and sending UCEOffers of bulk emailing services for sending UCEChain letters (see\\xa0About chain mail)Illegally pirated \\nsoftware (\"Warez\")\\n \\n\\xa0 \\nTo reduce the amount of spam you receive: \\nDon\\'t reply to spamBe careful releasing your email address, and know how it will be usedBe proactive \\xa0 \\nDon\\'t reply to spam \\nIf you reply to spam, the spammer or the automated program on the other end will then know that your address is connected to a live person, and the \\nspammer will then bombard you with even more spam, and circulate your address to other spammers.'}, {'file': 'dbfs:/Volumes/workspace/default/raw_data/KB0000011.pdf', 'text': 'Many spammers are deceitful, trying to fool people into opening their unwanted e-mail by pretending to be someone else or using a \\nsubject line which fools the recipient into opening the mail. Sometimes they claim falsely that the person is receiving the e-mail because the person asked for \\nit, or expressed interest in material of a similar nature. The truth is that few people welcome spam and even fewer ask for it.\\nIf a supervisor or co-worker thinks otherwise, IT can reassure them. Certainly, IT technicians and consultants understand that spam is a plague and not \\nsomething invited by the recipient. As extra protection, depending upon how you receive your e-mail on campus, there are ways to quarantine spam and/or \\nfilter your incoming e-mail. \\xa0It is advisable to immediately delete any such emails you receive. \\nWiki:'}, {'file': 'dbfs:/Volumes/workspace/default/raw_data/KB0000029.pdf', 'text': \"The message may even come from someone you know and respect who is simply not aware that it's a hoax. \\nLearn about hoaxes and the sites available to verify hoaxes, and do not forward them to others.\\xa0\\n \\n\\xa0 \\nQuestions regarding X-rated spam (unsolicited mass e-mail) \\n\\xa0 \\nSome members of the Company have at times expressed concern to IT regarding their own accountability for unsolicited e-mail of a sexual nature sent to \\ntheir Company e-mail address. In some cases, an employee worries that a supervisor or co-worker might think the employee solicited the mail. In other \\ncases, the person fears that an IT employee asked to assist with the computer might think the person had solicited the sexually-oriented mail. \\nMost people who either have experienced spam or have read about spam understand that spammers do not wait to be asked; they are in the business of \\naggressive marketing. Many spammers are deceitful, trying to fool people into opening their unwanted e-mail by pretending to be someone else or using a \\nsubject line which fools the recipient into opening the mail. Sometimes they claim falsely that the person is receiving the e-mail because the person asked for \\nit, or expressed interest in material of a similar nature. The truth is that few people welcome spam and even fewer ask for it.\\n \\nIf a supervisor or co-worker thinks otherwise, IT can reassure them. Certainly, IT technicians and consultants understand that spam is a plague and not \\nsomething invited by the recipient. As extra protection, depending upon how you receive your e-mail on campus, there are ways to quarantine spam and/or \\nfilter your incoming e-mail. \\xa0It is advisable to immediately delete any such emails you receive.\"}, {'file': 'dbfs:/Volumes/workspace/default/raw_data/KB0000011.pdf', 'text': \"Knowledge List Page 1\\nRun By : System Administrator 2024-10-22 22:39:34 Pacific Daylight TimeReport Title: Knowledge List\\nRun Date and Time: 2024-10-22 22:39:34 Pacific Daylight Time\\nRun by: System Administrator\\nTable name: kb_knowledge\\nQuery Condition: Number = KB0000011\\nSort Order: Number in descending order\\n1 Knowledge\\n▼ Number Short description Author Category Workflow Updated\\nKB0000011 How to Deal with Spam Ron Kettering Email Published 2014-12-19 07:54:36\\nKnowledge List Page 2\\nRun By : System Administrator 2024-10-22 22:39:34 Pacific Daylight TimeKnowledge\\nNumber: KB0000011\\nKnowledge base: IT\\nCategory: Email\\nPublished: 2014-09-09\\nValid to: 2100-01-01Article type: HTML\\nWorkflow: Published\\nSource Task:\\nAttachment link: false\\nDisplay attachments: false\\nShort description:\\nHow to Deal with Spam\\nArticle body:\\nHow to Deal with Spam \\nSpam\\xa0has increasingly become a problem on the Internet. While every Internet user receives some spam, email addresses posted to web sites or in \\nnewsgroups and chat rooms attract the most spam. \\nTo reduce the amount of spam you receive: \\nDon't reply to spamBe careful releasing your email address, and know how it will be usedBe proactive \\xa0 \\nDon't reply to spam \\nIf you reply to spam, the spammer or the automated program on the other end will then know that your address is connected to a live person, and the \\nspammer will then bombard you with even more spam, and circulate your address to other spammers. It is critical that you pause and think before replying to \\nany spam. Consider the following guidelines: \\nSetting up your email account to generate automatic responses while you are away can have the unfortunate side-effect of verifying your email address to \\nevery spammer that sends you spam.\\xa0If the message appears to come from a legitimate company, the company may have obtained your email address from \\nsome transaction between you and the company. In fact, you may have inadvertently provided your email address (e.g., if you didn't check a box \\nmarked\\xa0Don't send me product updates).\"}, {'file': 'dbfs:/Volumes/workspace/default/raw_data/KB0000029.pdf', 'text': \"It is critical that you pause and think before replying to \\nany spam. Consider the following guidelines: \\nSetting up your email account to generate automatic responses while you are away can have the unfortunate side-effect of verifying your email address to \\nevery spammer that sends you spam.\\xa0If the message appears to come from a legitimate company, the company may have obtained your email address from \\nsome transaction between you and the company. In fact, you may have inadvertently provided your email address (e.g., if you didn't check a box \\nmarked\\xa0Don't send me product updates). In these cases, it is usually safe to reply and ask to be removed from the mailing list.\\xa0If it is not a company you \\nrecognize, use your judgment. To be safe, copy and paste the link to the company's site into the browser rather than clicking it in the email message.\\xa0If the \\nspam is clearly from a disreputable source,\\xa0never\\xa0respond. Do not follow the (probably bogus) unsubscribe directions. In most cases, if you never reply, the \\nnetwork of spammers will eventually decide your email address is a dud\\n, and will stop using it as often. \\nBe careful releasing your email address, and know how it will be used \\nEvery time you communicate on the Internet or browse a web site, there are opportunities for spammers to intercept your communications to obtain your \\nemail address and other personal information. \\nOtherwise reputable companies may sell or exchange your email address with other companies, and this information may eventually find its way to a \\nspammer. At worst, spammers will use automated programs to bombard these lists of email addresses with spam. Consider the following guidelines: \\nSubscribe only to essential discussion lists, and ensure that they are moderated.\\xa0Think twice before offering your email address to a web site. You may wish \\nto check the site's privacy policy first to be sure it uses secure technology, and that the company does not share your email address with others.\"}]\n"
     ]
    }
   ],
   "source": [
    "# get similar 5 documents.\n",
    "results = vsc.get_index(vs_endpoint_name, vs_index_fullname).similarity_search(\n",
    "  query_vector=embeddings[0],\n",
    "  columns=[\"pdf_name\", \"content\"],\n",
    "  num_results=5)\n",
    "\n",
    "# format result to align with reranker lib format. \n",
    "passages = []\n",
    "for doc in results.get(\"result\", {}).get(\"data_array\", []):\n",
    "    new_doc = {\"file\": doc[0], \"text\": doc[1]}\n",
    "    passages.append(new_doc)\n",
    "\n",
    "print(passages)"
   ]
  },
  {
   "cell_type": "code",
   "execution_count": 0,
   "metadata": {
    "application/vnd.databricks.v1+cell": {
     "cellMetadata": {
      "byteLimit": 2048000,
      "rowLimit": 10000
     },
     "inputWidgets": {},
     "nuid": "d3a33e11-8a73-411f-b173-dfecdf9c0763",
     "showTitle": false,
     "title": ""
    }
   },
   "outputs": [
    {
     "output_type": "stream",
     "name": "stdout",
     "output_type": "stream",
     "text": [
      "Current working directory: /Workspace/Shared/GenAI\n"
     ]
    }
   ],
   "source": [
    "import os\n",
    "working_dir = os.getcwd()\n",
    "print(\"Current working directory:\", working_dir)"
   ]
  },
  {
   "cell_type": "markdown",
   "metadata": {
    "application/vnd.databricks.v1+cell": {
     "cellMetadata": {},
     "inputWidgets": {},
     "nuid": "ff8377d3-8e8a-4229-a636-c8dc1fb8dcd2",
     "showTitle": false,
     "title": ""
    }
   },
   "source": [
    "Re-ranking Search Results"
   ]
  },
  {
   "cell_type": "code",
   "execution_count": 0,
   "metadata": {
    "application/vnd.databricks.v1+cell": {
     "cellMetadata": {
      "byteLimit": 2048000,
      "rowLimit": 10000
     },
     "inputWidgets": {},
     "nuid": "8a432d86-d1ee-40c4-9d64-9a07667258ff",
     "showTitle": false,
     "title": ""
    }
   },
   "outputs": [
    {
     "output_type": "stream",
     "name": "stderr",
     "output_type": "stream",
     "text": [
      "INFO:flashrank.Ranker:Downloading rank-T5-flan...\n\rrank-T5-flan.zip:   0%|          | 0.00/73.7M [00:00<?, ?iB/s]\rrank-T5-flan.zip:   6%|▋         | 4.62M/73.7M [00:00<00:01, 48.4MiB/s]\rrank-T5-flan.zip:  13%|█▎        | 9.25M/73.7M [00:00<00:01, 46.0MiB/s]\rrank-T5-flan.zip:  19%|█▊        | 13.6M/73.7M [00:00<00:01, 43.7MiB/s]\rrank-T5-flan.zip:  24%|██▍       | 17.8M/73.7M [00:00<00:01, 43.5MiB/s]\rrank-T5-flan.zip:  30%|██▉       | 22.0M/73.7M [00:00<00:01, 43.5MiB/s]\rrank-T5-flan.zip:  35%|███▌      | 26.1M/73.7M [00:00<00:01, 43.3MiB/s]\rrank-T5-flan.zip:  41%|████      | 30.3M/73.7M [00:00<00:01, 43.3MiB/s]\rrank-T5-flan.zip:  47%|████▋     | 34.4M/73.7M [00:00<00:00, 42.9MiB/s]\rrank-T5-flan.zip:  52%|█████▏    | 38.5M/73.7M [00:00<00:00, 42.9MiB/s]\rrank-T5-flan.zip:  58%|█████▊    | 42.6M/73.7M [00:01<00:00, 41.0MiB/s]\rrank-T5-flan.zip:  64%|██████▍   | 47.0M/73.7M [00:01<00:00, 42.5MiB/s]\rrank-T5-flan.zip:  70%|██████▉   | 51.3M/73.7M [00:01<00:00, 43.2MiB/s]\rrank-T5-flan.zip:  75%|███████▌  | 55.5M/73.7M [00:01<00:00, 42.9MiB/s]\rrank-T5-flan.zip:  81%|████████  | 59.6M/73.7M [00:01<00:00, 42.0MiB/s]\rrank-T5-flan.zip:  86%|████████▋ | 63.6M/73.7M [00:01<00:00, 38.7MiB/s]\rrank-T5-flan.zip:  93%|█████████▎| 68.7M/73.7M [00:01<00:00, 42.8MiB/s]\rrank-T5-flan.zip: 100%|█████████▉| 73.3M/73.7M [00:01<00:00, 44.5MiB/s]\rrank-T5-flan.zip: 100%|██████████| 73.7M/73.7M [00:01<00:00, 43.1MiB/s]\n"
     ]
    },
    {
     "output_type": "stream",
     "name": "stdout",
     "output_type": "stream",
     "text": [
      "{'file': 'dbfs:/Volumes/workspace/default/raw_data/KB0000011.pdf', 'text': \"Knowledge List Page 1\\nRun By : System Administrator 2024-10-22 22:39:34 Pacific Daylight TimeReport Title: Knowledge List\\nRun Date and Time: 2024-10-22 22:39:34 Pacific Daylight Time\\nRun by: System Administrator\\nTable name: kb_knowledge\\nQuery Condition: Number = KB0000011\\nSort Order: Number in descending order\\n1 Knowledge\\n▼ Number Short description Author Category Workflow Updated\\nKB0000011 How to Deal with Spam Ron Kettering Email Published 2014-12-19 07:54:36\\nKnowledge List Page 2\\nRun By : System Administrator 2024-10-22 22:39:34 Pacific Daylight TimeKnowledge\\nNumber: KB0000011\\nKnowledge base: IT\\nCategory: Email\\nPublished: 2014-09-09\\nValid to: 2100-01-01Article type: HTML\\nWorkflow: Published\\nSource Task:\\nAttachment link: false\\nDisplay attachments: false\\nShort description:\\nHow to Deal with Spam\\nArticle body:\\nHow to Deal with Spam \\nSpam\\xa0has increasingly become a problem on the Internet. While every Internet user receives some spam, email addresses posted to web sites or in \\nnewsgroups and chat rooms attract the most spam. \\nTo reduce the amount of spam you receive: \\nDon't reply to spamBe careful releasing your email address, and know how it will be usedBe proactive \\xa0 \\nDon't reply to spam \\nIf you reply to spam, the spammer or the automated program on the other end will then know that your address is connected to a live person, and the \\nspammer will then bombard you with even more spam, and circulate your address to other spammers. It is critical that you pause and think before replying to \\nany spam. Consider the following guidelines: \\nSetting up your email account to generate automatic responses while you are away can have the unfortunate side-effect of verifying your email address to \\nevery spammer that sends you spam.\\xa0If the message appears to come from a legitimate company, the company may have obtained your email address from \\nsome transaction between you and the company. In fact, you may have inadvertently provided your email address (e.g., if you didn't check a box \\nmarked\\xa0Don't send me product updates).\", 'score': 0.41741088}\n\n{'file': 'dbfs:/Volumes/workspace/default/raw_data/KB0000029.pdf', 'text': \"It is critical that you pause and think before replying to \\nany spam. Consider the following guidelines: \\nSetting up your email account to generate automatic responses while you are away can have the unfortunate side-effect of verifying your email address to \\nevery spammer that sends you spam.\\xa0If the message appears to come from a legitimate company, the company may have obtained your email address from \\nsome transaction between you and the company. In fact, you may have inadvertently provided your email address (e.g., if you didn't check a box \\nmarked\\xa0Don't send me product updates). In these cases, it is usually safe to reply and ask to be removed from the mailing list.\\xa0If it is not a company you \\nrecognize, use your judgment. To be safe, copy and paste the link to the company's site into the browser rather than clicking it in the email message.\\xa0If the \\nspam is clearly from a disreputable source,\\xa0never\\xa0respond. Do not follow the (probably bogus) unsubscribe directions. In most cases, if you never reply, the \\nnetwork of spammers will eventually decide your email address is a dud\\n, and will stop using it as often. \\nBe careful releasing your email address, and know how it will be used \\nEvery time you communicate on the Internet or browse a web site, there are opportunities for spammers to intercept your communications to obtain your \\nemail address and other personal information. \\nOtherwise reputable companies may sell or exchange your email address with other companies, and this information may eventually find its way to a \\nspammer. At worst, spammers will use automated programs to bombard these lists of email addresses with spam. Consider the following guidelines: \\nSubscribe only to essential discussion lists, and ensure that they are moderated.\\xa0Think twice before offering your email address to a web site. You may wish \\nto check the site's privacy policy first to be sure it uses secure technology, and that the company does not share your email address with others.\", 'score': 0.41165358}\n\n{'file': 'dbfs:/Volumes/workspace/default/raw_data/KB0000029.pdf', 'text': \"The message may even come from someone you know and respect who is simply not aware that it's a hoax. \\nLearn about hoaxes and the sites available to verify hoaxes, and do not forward them to others.\\xa0\\n \\n\\xa0 \\nQuestions regarding X-rated spam (unsolicited mass e-mail) \\n\\xa0 \\nSome members of the Company have at times expressed concern to IT regarding their own accountability for unsolicited e-mail of a sexual nature sent to \\ntheir Company e-mail address. In some cases, an employee worries that a supervisor or co-worker might think the employee solicited the mail. In other \\ncases, the person fears that an IT employee asked to assist with the computer might think the person had solicited the sexually-oriented mail. \\nMost people who either have experienced spam or have read about spam understand that spammers do not wait to be asked; they are in the business of \\naggressive marketing. Many spammers are deceitful, trying to fool people into opening their unwanted e-mail by pretending to be someone else or using a \\nsubject line which fools the recipient into opening the mail. Sometimes they claim falsely that the person is receiving the e-mail because the person asked for \\nit, or expressed interest in material of a similar nature. The truth is that few people welcome spam and even fewer ask for it.\\n \\nIf a supervisor or co-worker thinks otherwise, IT can reassure them. Certainly, IT technicians and consultants understand that spam is a plague and not \\nsomething invited by the recipient. As extra protection, depending upon how you receive your e-mail on campus, there are ways to quarantine spam and/or \\nfilter your incoming e-mail. \\xa0It is advisable to immediately delete any such emails you receive.\", 'score': 0.35495287}\n"
     ]
    }
   ],
   "source": [
    "from flashrank import Ranker, RerankRequest\n",
    "\n",
    "# Ensure the model file exists at this path or update the path accordingly\n",
    "cache_dir = \"/Workspace/Shared/GenAI/opt\"\n",
    "\n",
    "ranker = Ranker(model_name=\"rank-T5-flan\", cache_dir=cache_dir)\n",
    "\n",
    "rerankrequest = RerankRequest(query=question, passages=passages)\n",
    "results = ranker.rerank(rerankrequest)\n",
    "print(*results[:3], sep=\"\\n\\n\")"
   ]
  }
 ],
 "metadata": {
  "application/vnd.databricks.v1+notebook": {
   "dashboards": [],
   "environmentMetadata": null,
   "language": "python",
   "notebookMetadata": {
    "mostRecentlyExecutedCommandWithImplicitDF": {
     "commandId": 1429626004493837,
     "dataframes": [
      "_sqldf"
     ]
    },
    "pythonIndentUnit": 4
   },
   "notebookName": "2.Create Self-managed Vector Search Index",
   "widgets": {}
  }
 },
 "nbformat": 4,
 "nbformat_minor": 0
}
